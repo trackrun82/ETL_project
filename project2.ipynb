{
 "cells": [
  {
   "cell_type": "markdown",
   "metadata": {},
   "source": [
    "## Observations and Insights\n",
    "\n",
    "\n",
    "•\tThe  original data sets contained duplicate mice in the “study_results” file. The duplicates were removed to create a \n",
    "    merged data frame of all the data\\\n",
    "•\tThe bar chart shows that at the last time point, Capomulin and Ramicane are the most effective drugs with the most number \n",
    "    of mice still alive. Propriva seems to be the least effective drug the least number of mice alive\\\n",
    "•\tThe proportion of male mice was slightly higher in the study compared to female mice at 50.61% and 49.39% respectively\\\n",
    "•\tThe box and whisker plot shows that Ramicane was the most effective drug showing the least tumor volume\\\n",
    "•\tThe tumor volume has a positive correlation with mouse weight with a R2 value of 0.84\n"
   ]
  },
  {
   "cell_type": "markdown",
   "metadata": {},
   "source": []
  },
  {
   "cell_type": "code",
   "execution_count": 1,
   "metadata": {},
   "outputs": [],
   "source": [
    "%matplotlib inline"
   ]
  },
  {
   "cell_type": "code",
   "execution_count": 2,
   "metadata": {},
   "outputs": [],
   "source": [
    "# Dependencies and Setup\n",
    "import matplotlib.pyplot as plt\n",
    "from matplotlib import cm\n",
    "import pandas as pd\n",
    "import scipy.stats as st\n",
    "from sklearn import datasets\n",
    "import numpy as np\n",
    "from scipy.stats import linregress"
   ]
  },
  {
   "cell_type": "code",
   "execution_count": 5,
   "metadata": {},
   "outputs": [],
   "source": [
    "\n",
    "# Study data files\n",
    "imdb_movies_filepath = \"../Resources/IMDb movies.csv\"\n",
    "imdb_names_filepath = \"../Resources/IMDb names.csv\"\n",
    "imdb_ratings_filepath = \"../Resources/IMDb ratings.csv\"\n",
    "imdb_title_principals_filepath = \"../Resources/IMDb title_principals.csv\"\n",
    "\n",
    "\n",
    "# Read the mouse data and the study results\n",
    "imdb_movies = pd.read_csv(imdb_movies_filepath)\n",
    "imdb_names = pd.read_csv(imdb_names_filepath)\n",
    "imdb_ratings = pd.read_csv(imdb_ratings_filepath)\n",
    "imdb_title_principals = pd.read_csv(imdb_title_principals_filepath)\n"
   ]
  },
  {
   "cell_type": "code",
   "execution_count": 6,
   "metadata": {},
   "outputs": [
    {
     "data": {
      "text/html": [
       "<div>\n",
       "<style scoped>\n",
       "    .dataframe tbody tr th:only-of-type {\n",
       "        vertical-align: middle;\n",
       "    }\n",
       "\n",
       "    .dataframe tbody tr th {\n",
       "        vertical-align: top;\n",
       "    }\n",
       "\n",
       "    .dataframe thead th {\n",
       "        text-align: right;\n",
       "    }\n",
       "</style>\n",
       "<table border=\"1\" class=\"dataframe\">\n",
       "  <thead>\n",
       "    <tr style=\"text-align: right;\">\n",
       "      <th></th>\n",
       "      <th>imdb_title_id</th>\n",
       "      <th>title</th>\n",
       "      <th>original_title</th>\n",
       "      <th>year</th>\n",
       "      <th>date_published</th>\n",
       "      <th>genre</th>\n",
       "      <th>duration</th>\n",
       "      <th>country</th>\n",
       "      <th>language</th>\n",
       "      <th>director</th>\n",
       "      <th>...</th>\n",
       "      <th>actors</th>\n",
       "      <th>description</th>\n",
       "      <th>avg_vote</th>\n",
       "      <th>votes</th>\n",
       "      <th>budget</th>\n",
       "      <th>usa_gross_income</th>\n",
       "      <th>worlwide_gross_income</th>\n",
       "      <th>metascore</th>\n",
       "      <th>reviews_from_users</th>\n",
       "      <th>reviews_from_critics</th>\n",
       "    </tr>\n",
       "  </thead>\n",
       "  <tbody>\n",
       "    <tr>\n",
       "      <th>0</th>\n",
       "      <td>tt0000574</td>\n",
       "      <td>The Story of the Kelly Gang</td>\n",
       "      <td>The Story of the Kelly Gang</td>\n",
       "      <td>1906</td>\n",
       "      <td>1906-12-26</td>\n",
       "      <td>Biography, Crime, Drama</td>\n",
       "      <td>70</td>\n",
       "      <td>Australia</td>\n",
       "      <td>NaN</td>\n",
       "      <td>Charles Tait</td>\n",
       "      <td>...</td>\n",
       "      <td>Elizabeth Tait, John Tait, Norman Campbell, Be...</td>\n",
       "      <td>True story of notorious Australian outlaw Ned ...</td>\n",
       "      <td>6.1</td>\n",
       "      <td>537</td>\n",
       "      <td>$ 2250</td>\n",
       "      <td>NaN</td>\n",
       "      <td>NaN</td>\n",
       "      <td>NaN</td>\n",
       "      <td>7.0</td>\n",
       "      <td>7.0</td>\n",
       "    </tr>\n",
       "    <tr>\n",
       "      <th>1</th>\n",
       "      <td>tt0001892</td>\n",
       "      <td>Den sorte drøm</td>\n",
       "      <td>Den sorte drøm</td>\n",
       "      <td>1911</td>\n",
       "      <td>1911-08-19</td>\n",
       "      <td>Drama</td>\n",
       "      <td>53</td>\n",
       "      <td>Germany, Denmark</td>\n",
       "      <td>NaN</td>\n",
       "      <td>Urban Gad</td>\n",
       "      <td>...</td>\n",
       "      <td>Asta Nielsen, Valdemar Psilander, Gunnar Helse...</td>\n",
       "      <td>Two men of high rank are both wooing the beaut...</td>\n",
       "      <td>5.9</td>\n",
       "      <td>171</td>\n",
       "      <td>NaN</td>\n",
       "      <td>NaN</td>\n",
       "      <td>NaN</td>\n",
       "      <td>NaN</td>\n",
       "      <td>4.0</td>\n",
       "      <td>2.0</td>\n",
       "    </tr>\n",
       "    <tr>\n",
       "      <th>2</th>\n",
       "      <td>tt0002101</td>\n",
       "      <td>Cleopatra</td>\n",
       "      <td>Cleopatra</td>\n",
       "      <td>1912</td>\n",
       "      <td>1912-11-13</td>\n",
       "      <td>Drama, History</td>\n",
       "      <td>100</td>\n",
       "      <td>USA</td>\n",
       "      <td>English</td>\n",
       "      <td>Charles L. Gaskill</td>\n",
       "      <td>...</td>\n",
       "      <td>Helen Gardner, Pearl Sindelar, Miss Fielding, ...</td>\n",
       "      <td>The fabled queen of Egypt's affair with Roman ...</td>\n",
       "      <td>5.2</td>\n",
       "      <td>420</td>\n",
       "      <td>$ 45000</td>\n",
       "      <td>NaN</td>\n",
       "      <td>NaN</td>\n",
       "      <td>NaN</td>\n",
       "      <td>24.0</td>\n",
       "      <td>3.0</td>\n",
       "    </tr>\n",
       "    <tr>\n",
       "      <th>3</th>\n",
       "      <td>tt0002130</td>\n",
       "      <td>L'Inferno</td>\n",
       "      <td>L'Inferno</td>\n",
       "      <td>1911</td>\n",
       "      <td>1911-03-06</td>\n",
       "      <td>Adventure, Drama, Fantasy</td>\n",
       "      <td>68</td>\n",
       "      <td>Italy</td>\n",
       "      <td>Italian</td>\n",
       "      <td>Francesco Bertolini, Adolfo Padovan</td>\n",
       "      <td>...</td>\n",
       "      <td>Salvatore Papa, Arturo Pirovano, Giuseppe de L...</td>\n",
       "      <td>Loosely adapted from Dante's Divine Comedy and...</td>\n",
       "      <td>7.0</td>\n",
       "      <td>2019</td>\n",
       "      <td>NaN</td>\n",
       "      <td>NaN</td>\n",
       "      <td>NaN</td>\n",
       "      <td>NaN</td>\n",
       "      <td>28.0</td>\n",
       "      <td>14.0</td>\n",
       "    </tr>\n",
       "    <tr>\n",
       "      <th>4</th>\n",
       "      <td>tt0002199</td>\n",
       "      <td>From the Manger to the Cross; or, Jesus of Naz...</td>\n",
       "      <td>From the Manger to the Cross; or, Jesus of Naz...</td>\n",
       "      <td>1912</td>\n",
       "      <td>1913</td>\n",
       "      <td>Biography, Drama</td>\n",
       "      <td>60</td>\n",
       "      <td>USA</td>\n",
       "      <td>English</td>\n",
       "      <td>Sidney Olcott</td>\n",
       "      <td>...</td>\n",
       "      <td>R. Henderson Bland, Percy Dyer, Gene Gauntier,...</td>\n",
       "      <td>An account of the life of Jesus Christ, based ...</td>\n",
       "      <td>5.7</td>\n",
       "      <td>438</td>\n",
       "      <td>NaN</td>\n",
       "      <td>NaN</td>\n",
       "      <td>NaN</td>\n",
       "      <td>NaN</td>\n",
       "      <td>12.0</td>\n",
       "      <td>5.0</td>\n",
       "    </tr>\n",
       "  </tbody>\n",
       "</table>\n",
       "<p>5 rows × 22 columns</p>\n",
       "</div>"
      ],
      "text/plain": [
       "  imdb_title_id                                              title  \\\n",
       "0     tt0000574                        The Story of the Kelly Gang   \n",
       "1     tt0001892                                     Den sorte drøm   \n",
       "2     tt0002101                                          Cleopatra   \n",
       "3     tt0002130                                          L'Inferno   \n",
       "4     tt0002199  From the Manger to the Cross; or, Jesus of Naz...   \n",
       "\n",
       "                                      original_title  year date_published  \\\n",
       "0                        The Story of the Kelly Gang  1906     1906-12-26   \n",
       "1                                     Den sorte drøm  1911     1911-08-19   \n",
       "2                                          Cleopatra  1912     1912-11-13   \n",
       "3                                          L'Inferno  1911     1911-03-06   \n",
       "4  From the Manger to the Cross; or, Jesus of Naz...  1912           1913   \n",
       "\n",
       "                       genre  duration           country language  \\\n",
       "0    Biography, Crime, Drama        70         Australia      NaN   \n",
       "1                      Drama        53  Germany, Denmark      NaN   \n",
       "2             Drama, History       100               USA  English   \n",
       "3  Adventure, Drama, Fantasy        68             Italy  Italian   \n",
       "4           Biography, Drama        60               USA  English   \n",
       "\n",
       "                              director  ...  \\\n",
       "0                         Charles Tait  ...   \n",
       "1                            Urban Gad  ...   \n",
       "2                   Charles L. Gaskill  ...   \n",
       "3  Francesco Bertolini, Adolfo Padovan  ...   \n",
       "4                        Sidney Olcott  ...   \n",
       "\n",
       "                                              actors  \\\n",
       "0  Elizabeth Tait, John Tait, Norman Campbell, Be...   \n",
       "1  Asta Nielsen, Valdemar Psilander, Gunnar Helse...   \n",
       "2  Helen Gardner, Pearl Sindelar, Miss Fielding, ...   \n",
       "3  Salvatore Papa, Arturo Pirovano, Giuseppe de L...   \n",
       "4  R. Henderson Bland, Percy Dyer, Gene Gauntier,...   \n",
       "\n",
       "                                         description avg_vote votes   budget  \\\n",
       "0  True story of notorious Australian outlaw Ned ...      6.1   537   $ 2250   \n",
       "1  Two men of high rank are both wooing the beaut...      5.9   171      NaN   \n",
       "2  The fabled queen of Egypt's affair with Roman ...      5.2   420  $ 45000   \n",
       "3  Loosely adapted from Dante's Divine Comedy and...      7.0  2019      NaN   \n",
       "4  An account of the life of Jesus Christ, based ...      5.7   438      NaN   \n",
       "\n",
       "   usa_gross_income worlwide_gross_income metascore reviews_from_users  \\\n",
       "0               NaN                   NaN       NaN                7.0   \n",
       "1               NaN                   NaN       NaN                4.0   \n",
       "2               NaN                   NaN       NaN               24.0   \n",
       "3               NaN                   NaN       NaN               28.0   \n",
       "4               NaN                   NaN       NaN               12.0   \n",
       "\n",
       "   reviews_from_critics  \n",
       "0                   7.0  \n",
       "1                   2.0  \n",
       "2                   3.0  \n",
       "3                  14.0  \n",
       "4                   5.0  \n",
       "\n",
       "[5 rows x 22 columns]"
      ]
     },
     "execution_count": 6,
     "metadata": {},
     "output_type": "execute_result"
    }
   ],
   "source": [
    "imdb_movies.head()"
   ]
  },
  {
   "cell_type": "markdown",
   "metadata": {},
   "source": [
    "# MOVIES FILE"
   ]
  },
  {
   "cell_type": "code",
   "execution_count": 17,
   "metadata": {},
   "outputs": [
    {
     "data": {
      "text/plain": [
       "imdb_title_id                0\n",
       "title                        0\n",
       "original_title               0\n",
       "year                         0\n",
       "date_published               0\n",
       "genre                        0\n",
       "duration                     0\n",
       "country                     39\n",
       "language                   755\n",
       "director                    73\n",
       "writer                    1493\n",
       "production_company        4325\n",
       "actors                      66\n",
       "description               2430\n",
       "avg_vote                     0\n",
       "votes                        0\n",
       "budget                   58469\n",
       "worlwide_gross_income    51381\n",
       "reviews_from_users        7077\n",
       "reviews_from_critics     10987\n",
       "dtype: int64"
      ]
     },
     "execution_count": 17,
     "metadata": {},
     "output_type": "execute_result"
    }
   ],
   "source": [
    "imdb_movies.isnull().sum()"
   ]
  },
  {
   "cell_type": "code",
   "execution_count": 18,
   "metadata": {},
   "outputs": [
    {
     "name": "stdout",
     "output_type": "stream",
     "text": [
      "<class 'pandas.core.frame.DataFrame'>\n",
      "RangeIndex: 81273 entries, 0 to 81272\n",
      "Data columns (total 20 columns):\n",
      " #   Column                 Non-Null Count  Dtype  \n",
      "---  ------                 --------------  -----  \n",
      " 0   imdb_title_id          81273 non-null  object \n",
      " 1   title                  81273 non-null  object \n",
      " 2   original_title         81273 non-null  object \n",
      " 3   year                   81273 non-null  int64  \n",
      " 4   date_published         81273 non-null  object \n",
      " 5   genre                  81273 non-null  object \n",
      " 6   duration               81273 non-null  int64  \n",
      " 7   country                81234 non-null  object \n",
      " 8   language               80518 non-null  object \n",
      " 9   director               81200 non-null  object \n",
      " 10  writer                 79780 non-null  object \n",
      " 11  production_company     76948 non-null  object \n",
      " 12  actors                 81207 non-null  object \n",
      " 13  description            78843 non-null  object \n",
      " 14  avg_vote               81273 non-null  float64\n",
      " 15  votes                  81273 non-null  int64  \n",
      " 16  budget                 22804 non-null  object \n",
      " 17  worlwide_gross_income  29892 non-null  object \n",
      " 18  reviews_from_users     74196 non-null  float64\n",
      " 19  reviews_from_critics   70286 non-null  float64\n",
      "dtypes: float64(3), int64(3), object(14)\n",
      "memory usage: 12.4+ MB\n"
     ]
    }
   ],
   "source": [
    "imdb_movies.info()"
   ]
  },
  {
   "cell_type": "markdown",
   "metadata": {},
   "source": [
    "### Dropping columns"
   ]
  },
  {
   "cell_type": "code",
   "execution_count": 15,
   "metadata": {},
   "outputs": [],
   "source": [
    "imdb_movies.drop('metascore',axis=1, inplace = True)"
   ]
  },
  {
   "cell_type": "code",
   "execution_count": null,
   "metadata": {},
   "outputs": [],
   "source": [
    "imdb_movies.drop('usa_gross_income',axis=1, inplace = True)"
   ]
  },
  {
   "cell_type": "code",
   "execution_count": 16,
   "metadata": {},
   "outputs": [],
   "source": [
    "imdb_movies.to_csv('IMDb_movies_cleaned.csv')"
   ]
  },
  {
   "cell_type": "code",
   "execution_count": 19,
   "metadata": {},
   "outputs": [
    {
     "name": "stdout",
     "output_type": "stream",
     "text": [
      "<class 'pandas.core.frame.DataFrame'>\n",
      "RangeIndex: 81273 entries, 0 to 81272\n",
      "Data columns (total 20 columns):\n",
      " #   Column                 Non-Null Count  Dtype  \n",
      "---  ------                 --------------  -----  \n",
      " 0   imdb_title_id          81273 non-null  object \n",
      " 1   title                  81273 non-null  object \n",
      " 2   original_title         81273 non-null  object \n",
      " 3   year                   81273 non-null  int64  \n",
      " 4   date_published         81273 non-null  object \n",
      " 5   genre                  81273 non-null  object \n",
      " 6   duration               81273 non-null  int64  \n",
      " 7   country                81234 non-null  object \n",
      " 8   language               80518 non-null  object \n",
      " 9   director               81200 non-null  object \n",
      " 10  writer                 79780 non-null  object \n",
      " 11  production_company     76948 non-null  object \n",
      " 12  actors                 81207 non-null  object \n",
      " 13  description            78843 non-null  object \n",
      " 14  avg_vote               81273 non-null  float64\n",
      " 15  votes                  81273 non-null  int64  \n",
      " 16  budget                 22804 non-null  object \n",
      " 17  worlwide_gross_income  29892 non-null  object \n",
      " 18  reviews_from_users     74196 non-null  float64\n",
      " 19  reviews_from_critics   70286 non-null  float64\n",
      "dtypes: float64(3), int64(3), object(14)\n",
      "memory usage: 12.4+ MB\n"
     ]
    }
   ],
   "source": [
    "imdb_movies.info()"
   ]
  },
  {
   "cell_type": "markdown",
   "metadata": {},
   "source": [
    "# NAMES FILE"
   ]
  },
  {
   "cell_type": "code",
   "execution_count": 18,
   "metadata": {
    "scrolled": true
   },
   "outputs": [
    {
     "name": "stdout",
     "output_type": "stream",
     "text": [
      "<class 'pandas.core.frame.DataFrame'>\n",
      "RangeIndex: 175715 entries, 0 to 175714\n",
      "Data columns (total 20 columns):\n",
      " #   Column                 Non-Null Count   Dtype  \n",
      "---  ------                 --------------   -----  \n",
      " 0   imdb_name_id           175715 non-null  object \n",
      " 1   name                   175715 non-null  object \n",
      " 2   birth_name             175715 non-null  object \n",
      " 3   height                 30080 non-null   float64\n",
      " 4   bio                    122832 non-null  object \n",
      " 5   birth_details          75229 non-null   object \n",
      " 6   birth_year             75111 non-null   float64\n",
      " 7   date_of_birth          75102 non-null   object \n",
      " 8   place_of_birth         71122 non-null   object \n",
      " 9   death_details          26862 non-null   object \n",
      " 10  death_year             26838 non-null   float64\n",
      " 11  date_of_death          26855 non-null   object \n",
      " 12  place_of_death         25036 non-null   object \n",
      " 13  reason_of_death        11972 non-null   object \n",
      " 14  spouses                175715 non-null  int64  \n",
      " 15  divorces               175715 non-null  int64  \n",
      " 16  spouses_with_children  175715 non-null  int64  \n",
      " 17  children               175715 non-null  int64  \n",
      " 18  primary_profession     175341 non-null  object \n",
      " 19  known_for_titles       174748 non-null  object \n",
      "dtypes: float64(3), int64(4), object(13)\n",
      "memory usage: 26.8+ MB\n"
     ]
    }
   ],
   "source": [
    "imdb_names.info()"
   ]
  },
  {
   "cell_type": "code",
   "execution_count": 20,
   "metadata": {},
   "outputs": [
    {
     "data": {
      "text/plain": [
       "imdb_name_id                  0\n",
       "name                          0\n",
       "birth_name                    0\n",
       "height                   145635\n",
       "bio                       52883\n",
       "birth_details            100486\n",
       "birth_year               100604\n",
       "date_of_birth            100613\n",
       "place_of_birth           104593\n",
       "death_details            148853\n",
       "death_year               148877\n",
       "date_of_death            148860\n",
       "place_of_death           150679\n",
       "reason_of_death          163743\n",
       "spouses                       0\n",
       "divorces                      0\n",
       "spouses_with_children         0\n",
       "children                      0\n",
       "primary_profession          374\n",
       "known_for_titles            967\n",
       "dtype: int64"
      ]
     },
     "execution_count": 20,
     "metadata": {},
     "output_type": "execute_result"
    }
   ],
   "source": [
    "imdb_names.isnull().sum()"
   ]
  },
  {
   "cell_type": "markdown",
   "metadata": {},
   "source": [
    "# RATINGS FILE"
   ]
  },
  {
   "cell_type": "code",
   "execution_count": 19,
   "metadata": {},
   "outputs": [
    {
     "data": {
      "text/plain": [
       "imdb_title_id                    0\n",
       "weighted_average_vote            0\n",
       "total_votes                      0\n",
       "mean_vote                        0\n",
       "median_vote                      0\n",
       "votes_10                         0\n",
       "votes_9                          0\n",
       "votes_8                          0\n",
       "votes_7                          0\n",
       "votes_6                          0\n",
       "votes_5                          0\n",
       "votes_4                          0\n",
       "votes_3                          0\n",
       "votes_2                          0\n",
       "votes_1                          0\n",
       "allgenders_0age_avg_vote     54730\n",
       "allgenders_0age_votes        54730\n",
       "allgenders_18age_avg_vote      415\n",
       "allgenders_18age_votes         415\n",
       "allgenders_30age_avg_vote        9\n",
       "allgenders_30age_votes           9\n",
       "allgenders_45age_avg_vote      113\n",
       "allgenders_45age_votes         113\n",
       "males_allages_avg_vote           1\n",
       "males_allages_votes              1\n",
       "males_0age_avg_vote          60934\n",
       "males_0age_votes             60934\n",
       "males_18age_avg_vote          1056\n",
       "males_18age_votes             1056\n",
       "males_30age_avg_vote             9\n",
       "males_30age_votes                9\n",
       "males_45age_avg_vote           153\n",
       "males_45age_votes              153\n",
       "females_allages_avg_vote        70\n",
       "females_allages_votes           70\n",
       "females_0age_avg_vote        65940\n",
       "females_0age_votes           65940\n",
       "females_18age_avg_vote        5034\n",
       "females_18age_votes           5034\n",
       "females_30age_avg_vote         864\n",
       "females_30age_votes            864\n",
       "females_45age_avg_vote        2572\n",
       "females_45age_votes           2572\n",
       "top1000_voters_rating          606\n",
       "top1000_voters_votes           606\n",
       "us_voters_rating               239\n",
       "us_voters_votes                239\n",
       "non_us_voters_rating             4\n",
       "non_us_voters_votes              4\n",
       "dtype: int64"
      ]
     },
     "execution_count": 19,
     "metadata": {},
     "output_type": "execute_result"
    }
   ],
   "source": [
    "imdb_ratings.isnull().sum()"
   ]
  },
  {
   "cell_type": "code",
   "execution_count": 28,
   "metadata": {},
   "outputs": [],
   "source": [
    "imdb_ratings.drop(['allgenders_0age_avg_vote','allgenders_0age_votes','allgenders_18age_avg_vote','allgenders_18age_votes','allgenders_30age_avg_vote','allgenders_30age_votes','allgenders_45age_avg_vote','allgenders_45age_votes','males_allages_avg_vote','males_allages_votes','males_0age_avg_vote','males_0age_votes','males_18age_avg_vote','males_18age_votes','males_30age_avg_vote','males_30age_votes','males_45age_avg_vote','males_45age_votes','females_allages_avg_vote','females_allages_votes','females_0age_avg_vote','females_0age_votes','females_18age_avg_vote','females_18age_votes','females_30age_avg_vote','females_30age_votes','females_45age_avg_vote','females_45age_votes'],axis=1,inplace=True)"
   ]
  },
  {
   "cell_type": "code",
   "execution_count": 31,
   "metadata": {},
   "outputs": [],
   "source": [
    "imdb_ratings.to_csv('imdb_ratings_cleaned.csv')"
   ]
  },
  {
   "cell_type": "code",
   "execution_count": 30,
   "metadata": {},
   "outputs": [
    {
     "name": "stdout",
     "output_type": "stream",
     "text": [
      "<class 'pandas.core.frame.DataFrame'>\n",
      "RangeIndex: 81273 entries, 0 to 81272\n",
      "Data columns (total 21 columns):\n",
      " #   Column                 Non-Null Count  Dtype  \n",
      "---  ------                 --------------  -----  \n",
      " 0   imdb_title_id          81273 non-null  object \n",
      " 1   weighted_average_vote  81273 non-null  float64\n",
      " 2   total_votes            81273 non-null  int64  \n",
      " 3   mean_vote              81273 non-null  float64\n",
      " 4   median_vote            81273 non-null  float64\n",
      " 5   votes_10               81273 non-null  int64  \n",
      " 6   votes_9                81273 non-null  int64  \n",
      " 7   votes_8                81273 non-null  int64  \n",
      " 8   votes_7                81273 non-null  int64  \n",
      " 9   votes_6                81273 non-null  int64  \n",
      " 10  votes_5                81273 non-null  int64  \n",
      " 11  votes_4                81273 non-null  int64  \n",
      " 12  votes_3                81273 non-null  int64  \n",
      " 13  votes_2                81273 non-null  int64  \n",
      " 14  votes_1                81273 non-null  int64  \n",
      " 15  top1000_voters_rating  80667 non-null  float64\n",
      " 16  top1000_voters_votes   80667 non-null  float64\n",
      " 17  us_voters_rating       81034 non-null  float64\n",
      " 18  us_voters_votes        81034 non-null  float64\n",
      " 19  non_us_voters_rating   81269 non-null  float64\n",
      " 20  non_us_voters_votes    81269 non-null  float64\n",
      "dtypes: float64(9), int64(11), object(1)\n",
      "memory usage: 13.0+ MB\n"
     ]
    }
   ],
   "source": [
    "imdb_ratings.info()"
   ]
  },
  {
   "cell_type": "code",
   "execution_count": 21,
   "metadata": {},
   "outputs": [
    {
     "data": {
      "text/plain": [
       "imdb_title_id         0\n",
       "ordering              0\n",
       "imdb_name_id          0\n",
       "category              0\n",
       "job              281060\n",
       "characters       224064\n",
       "dtype: int64"
      ]
     },
     "execution_count": 21,
     "metadata": {},
     "output_type": "execute_result"
    }
   ],
   "source": [
    "imdb_title_principals.isnull().sum()"
   ]
  }
 ],
 "metadata": {
  "anaconda-cloud": {},
  "kernelspec": {
   "display_name": "Python [conda env:PythonData] *",
   "language": "python",
   "name": "conda-env-PythonData-py"
  },
  "language_info": {
   "codemirror_mode": {
    "name": "ipython",
    "version": 3
   },
   "file_extension": ".py",
   "mimetype": "text/x-python",
   "name": "python",
   "nbconvert_exporter": "python",
   "pygments_lexer": "ipython3",
   "version": "3.8.3"
  }
 },
 "nbformat": 4,
 "nbformat_minor": 2
}
